{
 "cells": [
  {
   "cell_type": "code",
   "execution_count": 1,
   "metadata": {},
   "outputs": [],
   "source": [
    "from pandas import read_csv, Series, DataFrame, concat\n",
    "import numpy as np\n",
    "import pathlib\n",
    "from sklearn.feature_extraction.text import CountVectorizer\n",
    "from sklearn.metrics.pairwise import cosine_similarity\n",
    "from sklearn.metrics import calinski_harabasz_score, davies_bouldin_score, accuracy_score, jaccard_score"
   ]
  },
  {
   "cell_type": "code",
   "execution_count": null,
   "metadata": {},
   "outputs": [],
   "source": [
    "Evaluation and Analysis"
   ]
  },
  {
   "cell_type": "code",
   "execution_count": 3,
   "metadata": {},
   "outputs": [],
   "source": [
    "dataTest = read_csv('Content_Training_Testing/content_user_test.csv')\n",
    "no_recom = 20\n",
    "\n",
    "def evaluate(name_algo, location_algo_output_file, eval_output_file):\n",
    "    output_data = read_csv(location_algo_output_file)\n",
    "\n",
    "    output_data[\"numberGamesUserHasInTest\"] = 0\n",
    "    output_data[\"numberRecommendationUserHas\"] = 0\n",
    "    output_data[\"ratio\"] = 0\n",
    "\n",
    "    for i, row in output_data.iterrows():\n",
    "        userGames = dataTest[dataTest[\"user_id\"] == row[\"user_id\"]][\"game\"].tolist()\n",
    "        output_data.at[i, 'numberGamesUserHasInTest'] = len(userGames)\n",
    "        count = 0\n",
    "        for j in range(1, no_recom+1):\n",
    "            if row[j] in userGames:\n",
    "                count += 1\n",
    "        output_data.at[i, \"numberRecommendationUserHas\"] = count\n",
    "        if len(userGames) != 0:\n",
    "            output_data.at[i, \"ratio\"] = float(count/len(userGames))\n",
    "    print(name_algo)\n",
    "    print(output_data[\"ratio\"].describe(include=[float]))\n",
    "    print(output_data[\"numberRecommendationUserHas\"].describe(include=[float]))\n",
    "    print(output_data[\"numberGamesUserHasInTest\"].describe(include=[float]))\n",
    "    output_data.to_csv(eval_output_file,\n",
    "                       columns=[\"user_id\", \"ratio\", \"numberRecommendationUserHas\", \"numberGamesUserHasInTest\"], index=False)"
   ]
  },
  {
   "cell_type": "code",
   "execution_count": 5,
   "metadata": {},
   "outputs": [
    {
     "name": "stdout",
     "output_type": "stream",
     "text": [
      "Content based with genre\n",
      "count    11214.000000\n",
      "mean         0.021224\n",
      "std          0.115793\n",
      "min          0.000000\n",
      "25%          0.000000\n",
      "50%          0.000000\n",
      "75%          0.000000\n",
      "max          1.000000\n",
      "Name: ratio, dtype: float64\n",
      "count    11214.00000\n",
      "mean         0.07125\n",
      "std          0.29322\n",
      "min          0.00000\n",
      "25%          0.00000\n",
      "50%          0.00000\n",
      "75%          0.00000\n",
      "max          4.00000\n",
      "Name: numberRecommendationUserHas, dtype: float64\n",
      "count    11214.000000\n",
      "mean         2.184680\n",
      "std          7.700844\n",
      "min          0.000000\n",
      "25%          0.000000\n",
      "50%          0.000000\n",
      "75%          1.000000\n",
      "max        211.000000\n",
      "Name: numberGamesUserHasInTest, dtype: float64\n"
     ]
    },
    {
     "name": "stderr",
     "output_type": "stream",
     "text": [
      "c:\\Users\\User\\AppData\\Local\\Programs\\Python\\Python38\\lib\\site-packages\\pandas\\core\\internals\\blocks.py:2323: RuntimeWarning: invalid value encountered in cast\n",
      "  values = values.astype(str)\n"
     ]
    }
   ],
   "source": [
    "evaluate(\"Content based with genre\", pathlib.Path('Test_Files/genre.csv'), pathlib.Path('Content_Output/genre_ratio.csv'))"
   ]
  },
  {
   "cell_type": "code",
   "execution_count": 4,
   "metadata": {},
   "outputs": [
    {
     "name": "stdout",
     "output_type": "stream",
     "text": [
      "Content based with popular tags\n",
      "count    11214.000000\n",
      "mean         0.018533\n",
      "std          0.105380\n",
      "min          0.000000\n",
      "25%          0.000000\n",
      "50%          0.000000\n",
      "75%          0.000000\n",
      "max          1.000000\n",
      "Name: ratio, dtype: float64\n",
      "count    11214.000000\n",
      "mean         0.066524\n",
      "std          0.282106\n",
      "min          0.000000\n",
      "25%          0.000000\n",
      "50%          0.000000\n",
      "75%          0.000000\n",
      "max          4.000000\n",
      "Name: numberRecommendationUserHas, dtype: float64\n",
      "count    11214.000000\n",
      "mean         2.184680\n",
      "std          7.700844\n",
      "min          0.000000\n",
      "25%          0.000000\n",
      "50%          0.000000\n",
      "75%          1.000000\n",
      "max        211.000000\n",
      "Name: numberGamesUserHasInTest, dtype: float64\n"
     ]
    },
    {
     "name": "stderr",
     "output_type": "stream",
     "text": [
      "c:\\Users\\User\\AppData\\Local\\Programs\\Python\\Python38\\lib\\site-packages\\pandas\\core\\internals\\blocks.py:2323: RuntimeWarning: invalid value encountered in cast\n",
      "  values = values.astype(str)\n"
     ]
    }
   ],
   "source": [
    "evaluate(\"Content based with popular tags\", pathlib.Path('Test_Files/tags.csv'), pathlib.Path('Content_Output/tags_ratio.csv'))"
   ]
  },
  {
   "cell_type": "code",
   "execution_count": 8,
   "metadata": {},
   "outputs": [
    {
     "name": "stdout",
     "output_type": "stream",
     "text": [
      "Content based with publisher\n",
      "count    11214.000000\n",
      "mean         0.027855\n",
      "std          0.133903\n",
      "min          0.000000\n",
      "25%          0.000000\n",
      "50%          0.000000\n",
      "75%          0.000000\n",
      "max          1.000000\n",
      "Name: ratio, dtype: float64\n",
      "count    11214.000000\n",
      "mean         0.099340\n",
      "std          0.384222\n",
      "min          0.000000\n",
      "25%          0.000000\n",
      "50%          0.000000\n",
      "75%          0.000000\n",
      "max          6.000000\n",
      "Name: numberRecommendationUserHas, dtype: float64\n",
      "count    11214.000000\n",
      "mean         2.184680\n",
      "std          7.700844\n",
      "min          0.000000\n",
      "25%          0.000000\n",
      "50%          0.000000\n",
      "75%          1.000000\n",
      "max        211.000000\n",
      "Name: numberGamesUserHasInTest, dtype: float64\n"
     ]
    },
    {
     "name": "stderr",
     "output_type": "stream",
     "text": [
      "c:\\Users\\User\\AppData\\Local\\Programs\\Python\\Python38\\lib\\site-packages\\pandas\\core\\internals\\blocks.py:2323: RuntimeWarning: invalid value encountered in cast\n",
      "  values = values.astype(str)\n"
     ]
    }
   ],
   "source": [
    "evaluate(\"Content based with publisher\", pathlib.Path('Test_Files/publisher.csv'), pathlib.Path('Content_Output/publisher_ratio.csv'))"
   ]
  },
  {
   "cell_type": "code",
   "execution_count": 9,
   "metadata": {},
   "outputs": [
    {
     "name": "stdout",
     "output_type": "stream",
     "text": [
      "Content based with game_details\n",
      "count    11214.000000\n",
      "mean         0.025368\n",
      "std          0.129171\n",
      "min          0.000000\n",
      "25%          0.000000\n",
      "50%          0.000000\n",
      "75%          0.000000\n",
      "max          1.000000\n",
      "Name: ratio, dtype: float64\n",
      "count    11214.000000\n",
      "mean         0.080524\n",
      "std          0.330970\n",
      "min          0.000000\n",
      "25%          0.000000\n",
      "50%          0.000000\n",
      "75%          0.000000\n",
      "max          4.000000\n",
      "Name: numberRecommendationUserHas, dtype: float64\n",
      "count    11214.000000\n",
      "mean         2.184680\n",
      "std          7.700844\n",
      "min          0.000000\n",
      "25%          0.000000\n",
      "50%          0.000000\n",
      "75%          1.000000\n",
      "max        211.000000\n",
      "Name: numberGamesUserHasInTest, dtype: float64\n"
     ]
    },
    {
     "name": "stderr",
     "output_type": "stream",
     "text": [
      "c:\\Users\\User\\AppData\\Local\\Programs\\Python\\Python38\\lib\\site-packages\\pandas\\core\\internals\\blocks.py:2323: RuntimeWarning: invalid value encountered in cast\n",
      "  values = values.astype(str)\n"
     ]
    }
   ],
   "source": [
    "evaluate(\"Content based with game_details\", pathlib.Path('Test_Files/game_details.csv'), pathlib.Path('Content_Output/gamedetails_ratio.csv'))"
   ]
  },
  {
   "cell_type": "code",
   "execution_count": 10,
   "metadata": {},
   "outputs": [
    {
     "name": "stdout",
     "output_type": "stream",
     "text": [
      "Content based with genre, publisher, developer\n",
      "count    11214.000000\n",
      "mean         0.033220\n",
      "std          0.149685\n",
      "min          0.000000\n",
      "25%          0.000000\n",
      "50%          0.000000\n",
      "75%          0.000000\n",
      "max          1.000000\n",
      "Name: ratio, dtype: float64\n",
      "count    11214.000000\n",
      "mean         0.103264\n",
      "std          0.384812\n",
      "min          0.000000\n",
      "25%          0.000000\n",
      "50%          0.000000\n",
      "75%          0.000000\n",
      "max          4.000000\n",
      "Name: numberRecommendationUserHas, dtype: float64\n",
      "count    11214.000000\n",
      "mean         2.184680\n",
      "std          7.700844\n",
      "min          0.000000\n",
      "25%          0.000000\n",
      "50%          0.000000\n",
      "75%          1.000000\n",
      "max        211.000000\n",
      "Name: numberGamesUserHasInTest, dtype: float64\n"
     ]
    },
    {
     "name": "stderr",
     "output_type": "stream",
     "text": [
      "c:\\Users\\User\\AppData\\Local\\Programs\\Python\\Python38\\lib\\site-packages\\pandas\\core\\internals\\blocks.py:2323: RuntimeWarning: invalid value encountered in cast\n",
      "  values = values.astype(str)\n"
     ]
    }
   ],
   "source": [
    "evaluate(\"Content based with genre, publisher, developer\", pathlib.Path('Test_Files/genre_pub_dev.csv'), pathlib.Path('Content_Output/genre_pub_dev_ratio.csv'))"
   ]
  },
  {
   "cell_type": "code",
   "execution_count": 11,
   "metadata": {},
   "outputs": [
    {
     "name": "stdout",
     "output_type": "stream",
     "text": [
      "Content based with genre, tags, developer\n",
      "count    11214.000000\n",
      "mean         0.017870\n",
      "std          0.098974\n",
      "min          0.000000\n",
      "25%          0.000000\n",
      "50%          0.000000\n",
      "75%          0.000000\n",
      "max          1.000000\n",
      "Name: ratio, dtype: float64\n",
      "count    11214.000000\n",
      "mean         0.071250\n",
      "std          0.301024\n",
      "min          0.000000\n",
      "25%          0.000000\n",
      "50%          0.000000\n",
      "75%          0.000000\n",
      "max          4.000000\n",
      "Name: numberRecommendationUserHas, dtype: float64\n",
      "count    11214.000000\n",
      "mean         2.184680\n",
      "std          7.700844\n",
      "min          0.000000\n",
      "25%          0.000000\n",
      "50%          0.000000\n",
      "75%          1.000000\n",
      "max        211.000000\n",
      "Name: numberGamesUserHasInTest, dtype: float64\n"
     ]
    },
    {
     "name": "stderr",
     "output_type": "stream",
     "text": [
      "c:\\Users\\User\\AppData\\Local\\Programs\\Python\\Python38\\lib\\site-packages\\pandas\\core\\internals\\blocks.py:2323: RuntimeWarning: invalid value encountered in cast\n",
      "  values = values.astype(str)\n"
     ]
    }
   ],
   "source": [
    "evaluate(\"Content based with genre, tags, developer\", pathlib.Path('Test_Files/genre_tags_dev.csv'), pathlib.Path('Content_Output/genre_tags_dev_ratio.csv'))"
   ]
  },
  {
   "cell_type": "code",
   "execution_count": 12,
   "metadata": {},
   "outputs": [
    {
     "name": "stdout",
     "output_type": "stream",
     "text": [
      "Content based with genre, tags, game details\n",
      "count    11214.000000\n",
      "mean         0.027151\n",
      "std          0.126931\n",
      "min          0.000000\n",
      "25%          0.000000\n",
      "50%          0.000000\n",
      "75%          0.000000\n",
      "max          1.000000\n",
      "Name: ratio, dtype: float64\n",
      "count    11214.000000\n",
      "mean         0.092563\n",
      "std          0.340485\n",
      "min          0.000000\n",
      "25%          0.000000\n",
      "50%          0.000000\n",
      "75%          0.000000\n",
      "max          4.000000\n",
      "Name: numberRecommendationUserHas, dtype: float64\n",
      "count    11214.000000\n",
      "mean         2.184680\n",
      "std          7.700844\n",
      "min          0.000000\n",
      "25%          0.000000\n",
      "50%          0.000000\n",
      "75%          1.000000\n",
      "max        211.000000\n",
      "Name: numberGamesUserHasInTest, dtype: float64\n"
     ]
    },
    {
     "name": "stderr",
     "output_type": "stream",
     "text": [
      "c:\\Users\\User\\AppData\\Local\\Programs\\Python\\Python38\\lib\\site-packages\\pandas\\core\\internals\\blocks.py:2323: RuntimeWarning: invalid value encountered in cast\n",
      "  values = values.astype(str)\n"
     ]
    }
   ],
   "source": [
    "evaluate(\"Content based with genre, tags, game details\", pathlib.Path('Test_Files/genre_tags_gamedetail.csv'), pathlib.Path('Content_Output/genre_tags_gamedetail_ratio.csv'))"
   ]
  }
 ],
 "metadata": {
  "kernelspec": {
   "display_name": "Python 3",
   "language": "python",
   "name": "python3"
  },
  "language_info": {
   "codemirror_mode": {
    "name": "ipython",
    "version": 3
   },
   "file_extension": ".py",
   "mimetype": "text/x-python",
   "name": "python",
   "nbconvert_exporter": "python",
   "pygments_lexer": "ipython3",
   "version": "3.8.8"
  },
  "orig_nbformat": 4,
  "vscode": {
   "interpreter": {
    "hash": "f544ce1a915a9875fad91c894e2c0bcad4b7a79945aa6027ef3ad27810072aa6"
   }
  }
 },
 "nbformat": 4,
 "nbformat_minor": 2
}
