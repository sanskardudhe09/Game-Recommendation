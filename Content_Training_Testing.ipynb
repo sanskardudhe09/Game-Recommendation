{
 "cells": [
  {
   "cell_type": "code",
   "execution_count": 1,
   "metadata": {},
   "outputs": [],
   "source": [
    "from pandas import read_csv\n",
    "import pathlib"
   ]
  },
  {
   "cell_type": "code",
   "execution_count": 9,
   "metadata": {},
   "outputs": [],
   "source": [
    "user_datafile = read_csv('steam_users_purchase_play.csv')\n",
    "#20 % of the random elements are used for testing in test dataset.\n",
    "user_testset = user_datafile.sample(frac=0.2, replace=False)\n",
    "#remaining % of the elemnts are used for training purpose \n",
    "user_trainset = user_datafile[~user_datafile.isin(user_testset)].dropna()\n",
    "#outputting the training and testing files\n",
    "user_testset.head(20).drop(['Unnamed: 0'], axis=1)\n",
    "user_testset.to_csv('Content_Training_Testing/content_user_test.csv', index=False)\n",
    "user_trainset.to_csv('Content_Training_Testing/content_user_train.csv', index=False)"
   ]
  }
 ],
 "metadata": {
  "kernelspec": {
   "display_name": "Python 3",
   "language": "python",
   "name": "python3"
  },
  "language_info": {
   "codemirror_mode": {
    "name": "ipython",
    "version": 3
   },
   "file_extension": ".py",
   "mimetype": "text/x-python",
   "name": "python",
   "nbconvert_exporter": "python",
   "pygments_lexer": "ipython3",
   "version": "3.8.8"
  },
  "orig_nbformat": 4,
  "vscode": {
   "interpreter": {
    "hash": "f544ce1a915a9875fad91c894e2c0bcad4b7a79945aa6027ef3ad27810072aa6"
   }
  }
 },
 "nbformat": 4,
 "nbformat_minor": 2
}
